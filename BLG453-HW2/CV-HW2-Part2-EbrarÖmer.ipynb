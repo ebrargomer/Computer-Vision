{
 "cells": [
  {
   "cell_type": "code",
   "execution_count": 1,
   "metadata": {},
   "outputs": [
    {
     "name": "stdout",
     "output_type": "stream",
     "text": [
      "No CUDA runtime is found, using CUDA_HOME='C:\\Program Files\\NVIDIA GPU Computing Toolkit\\CUDA\\v11.0'\n"
     ]
    }
   ],
   "source": [
    "import pickle\n",
    "import matplotlib.pyplot as plt\n",
    "import torch\n",
    "import cv2\n",
    "import numpy as np\n",
    "import torch_utils\n",
    "zs=[]\n",
    "#The code that already given generates 1 face with a random vector. \n",
    "#So I took it into loop, generated 2 face and saved their vectors.\n",
    "for i in range (2):\n",
    "    with open(\"stylegan3-t-ffhq-1024x1024.pkl\",\"rb\")as f:\n",
    "        a=pickle.load(f)\n",
    "    gan=a[\"G_ema\"]\n",
    "    gan.eval()\n",
    "    for param in gan.parameters():\n",
    "        param.requiresgrad=False\n",
    "    z=torch.randn(1,512)\n",
    "    zs.append(z);\n",
    "    img=gan(z,0).numpy().squeeze()\n",
    "    img=np.transpose(img,(1,2,0))\n",
    "    img[img>1]=1\n",
    "    img[img<-1]=-1\n",
    "    img=255*(img+1)/2\n",
    "    cv2.imwrite(\"test_\"+str(i)+\".png\",img[:,:,[2,1,0]])"
   ]
  },
  {
   "cell_type": "code",
   "execution_count": 11,
   "metadata": {},
   "outputs": [],
   "source": [
    "difference=(zs[1]-zs[0])/50\n",
    "#I calculate the difference of torch's and divide 50 to create 50 images between these 2 image.\n",
    "images_list=[]\n",
    "next_step=zs[0]\n",
    "#start show with first image\n",
    "for i in range(50):\n",
    "    \n",
    "    img=gan(next_step,0).numpy().squeeze()\n",
    "    img=np.transpose(img,(1,2,0))\n",
    "    img[img>1]=1\n",
    "    img[img<-1]=-1\n",
    "    img=255*(img+1)/2\n",
    "    \n",
    "    next_step=next_step+(difference)\n",
    "    #add this difference each time first image to get closer to final image\n",
    "    images_list.append(img)"
   ]
  },
  {
   "cell_type": "code",
   "execution_count": 14,
   "metadata": {},
   "outputs": [
    {
     "name": "stderr",
     "output_type": "stream",
     "text": [
      "\r",
      "t:   0%|                                                                              | 0/50 [00:00<?, ?it/s, now=None]"
     ]
    },
    {
     "name": "stdout",
     "output_type": "stream",
     "text": [
      "Moviepy - Building video hw2_part2_video.mp4.\n",
      "Moviepy - Writing video hw2_part2_video.mp4\n",
      "\n"
     ]
    },
    {
     "name": "stderr",
     "output_type": "stream",
     "text": [
      "                                                                                                                       \r"
     ]
    },
    {
     "name": "stdout",
     "output_type": "stream",
     "text": [
      "Moviepy - Done !\n",
      "Moviepy - video ready hw2_part2_video.mp4\n"
     ]
    }
   ],
   "source": [
    "import moviepy.video.io.ImageSequenceClip as m\n",
    "\n",
    "clip = m.ImageSequenceClip(images_list, fps = 20)\n",
    "clip.write_videofile(\"hw2_part2_video.mp4\", codec=\"libx264\")"
   ]
  },
  {
   "cell_type": "code",
   "execution_count": null,
   "metadata": {},
   "outputs": [],
   "source": []
  }
 ],
 "metadata": {
  "kernelspec": {
   "display_name": "Python 3",
   "language": "python",
   "name": "python3"
  },
  "language_info": {
   "codemirror_mode": {
    "name": "ipython",
    "version": 3
   },
   "file_extension": ".py",
   "mimetype": "text/x-python",
   "name": "python",
   "nbconvert_exporter": "python",
   "pygments_lexer": "ipython3",
   "version": "3.7.6"
  }
 },
 "nbformat": 4,
 "nbformat_minor": 4
}
