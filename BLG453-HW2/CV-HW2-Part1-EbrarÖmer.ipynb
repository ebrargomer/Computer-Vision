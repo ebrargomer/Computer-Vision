{
 "cells": [
  {
   "cell_type": "code",
   "execution_count": 1,
   "metadata": {},
   "outputs": [
    {
     "name": "stdout",
     "output_type": "stream",
     "text": [
      "719 575\n"
     ]
    }
   ],
   "source": [
    "import moviepy.video.io.VideoFileClip as mpy\n",
    "import cv2\n",
    "import numpy as np\n",
    "vid = mpy.VideoFileClip(\"shapes_video.mp4\")\n",
    "framecount = vid.reader.nframes\n",
    "print(vid.size[0]-1,vid.size[1]-1)\n",
    "\n",
    "videofps = vid.fps\n",
    "images_list =[]\n",
    "#Since we are dealing with salt&pepper, I implemented an order statics filter.\n",
    "\n",
    "for i in range(framecount):\n",
    "    frame = vid.get_frame(i*1.0/ videofps)\n",
    "    temp = np.empty((frame.shape[0],frame.shape[1],3), np.uint8)\n",
    "    #temp is the new frame that without noise\n",
    "    for r in range(1,(frame.shape[0]-1)):\n",
    "        for c in range(1,(frame.shape[1]-1)):\n",
    "            img_new = sorted([frame[r-1, c-1][0],frame[r-1, c][0], frame[r-1, c+ 1][0],frame[r, c-1][0],\n",
    "                        frame[r, c][0], frame[r, c + 1][0], frame[r + 1, c-1][0], frame[r + 1, c][0],\n",
    "                        frame[r + 1, c + 1][0]])\n",
    "            temp[r, c]= img_new[4]\n",
    "            #sort 3x3 window of pixel, and take the middle one-> median filter\n",
    "    temp = temp.astype(np.uint8)\n",
    "    images_list.append(temp)            \n"
   ]
  },
  {
   "cell_type": "code",
   "execution_count": 2,
   "metadata": {},
   "outputs": [
    {
     "name": "stderr",
     "output_type": "stream",
     "text": [
      "t:  15%|██████████▏                                                         | 14/93 [00:00<00:00, 137.59it/s, now=None]"
     ]
    },
    {
     "name": "stdout",
     "output_type": "stream",
     "text": [
      "Moviepy - Building video hw2_part1_video.mp4.\n",
      "Moviepy - Writing video hw2_part1_video.mp4\n",
      "\n"
     ]
    },
    {
     "name": "stderr",
     "output_type": "stream",
     "text": [
      "                                                                                                                       \r"
     ]
    },
    {
     "name": "stdout",
     "output_type": "stream",
     "text": [
      "Moviepy - Done !\n",
      "Moviepy - video ready hw2_part1_video.mp4\n"
     ]
    }
   ],
   "source": [
    "import moviepy.video.io.ImageSequenceClip as m\n",
    "\n",
    "clip = m.ImageSequenceClip(images_list, fps = 25)\n",
    "clip.write_videofile(\"hw2_part1_video.mp4\", codec=\"libx264\")"
   ]
  },
  {
   "cell_type": "markdown",
   "metadata": {},
   "source": [
    "## PART 1.2"
   ]
  },
  {
   "cell_type": "code",
   "execution_count": 8,
   "metadata": {},
   "outputs": [],
   "source": [
    "def corner_detector(image): \n",
    "    return_img=image.copy()\n",
    "    \n",
    "    image = np.mean(cv2.GaussianBlur(img, (5,5), cv2.BORDER_DEFAULT), axis=-1)\n",
    "    # It stills see some noice since corner detector is very sensitive for noise. So I implemented gaussian first.\n",
    "        \n",
    "    dx,dy=np.gradient(image)\n",
    "\n",
    "    I_xx=dx*dx\n",
    "    I_xy=dx*dy\n",
    "    I_yy=dy*dy    \n",
    "    G_matrix=[[I_xx,I_xy],\n",
    "              [I_xy,I_yy]]\n",
    "    #not the final version of image structure tensor    \n",
    "    \n",
    "    counter=0\n",
    "    for row in range(1, image.shape[0] - 1):\n",
    "        for col in range(1, image.shape[1] -1):\n",
    "            G_matrix[0][0] = I_xx[row - 1 : row + 1, col - 1 : col + 1]\n",
    "            G_matrix[0][1] = I_xy[row - 1 : row + 1, col - 1 : col + 1]\n",
    "            G_matrix[1][0] = G_matrix[0][1]\n",
    "            G_matrix[1][1] = I_yy[row - 1 : row + 1, col - 1 : col + 1]\n",
    "\n",
    "            #formula from slide-week7.52\n",
    "            \n",
    "            structure_tensor = [[np.sum(G_matrix[0][0]), np.sum(G_matrix[0][1])],\n",
    "                                [np.sum(G_matrix[1][0]), np.sum(G_matrix[1][1])]]\n",
    "            eigenvals = np.linalg.eigvals(np.array(structure_tensor))\n",
    "            min_eigenval = np.min(eigenvals)\n",
    "            #threshold=np.linalg.det(structure_tensor)-(0.05*np.trace(structure_tensor))         \n",
    "            \n",
    "            #I tried 10000,1000,500->large,100->little\n",
    "            if min_eigenval > 200: #a treshold                \n",
    "                counter+=1\n",
    "                return_img[row-1:row+1, col-1:col+1] = (255,0,0)\n",
    "                #found a corner\n",
    "    \n",
    "    return counter,return_img"
   ]
  },
  {
   "cell_type": "code",
   "execution_count": 16,
   "metadata": {},
   "outputs": [],
   "source": [
    "import moviepy.video.io.VideoFileClip as mpy\n",
    "import cv2\n",
    "import numpy as np\n",
    "vid = mpy.VideoFileClip(\"hw2_part1_video.mp4\")\n",
    "\n",
    "framecount = vid.reader.nframes\n",
    "videofps = vid.fps\n",
    "background=np.empty((vid.size[1],vid.size[0],3), np.uint8)\n",
    "star=0\n",
    "square=0\n",
    "pentagon=0\n",
    "images_list=[]\n",
    "for i in range(framecount):\n",
    "    frame = vid.get_frame(i*1.0/ videofps)\n",
    "    img = frame.copy()\n",
    "    img.setflags(write=1)\n",
    "    \n",
    "    if(i>6 and i <16): #first 6 frame has no shape \n",
    "                       #after 16th frame, shapes intersects and whites become black. I could not solve it\n",
    "        img =cv2.subtract(frame,background)\n",
    "        \n",
    "        background+=img.copy()        \n",
    "        counter,return_img = corner_detector(img)\n",
    "        images_list.append(return_img)"
   ]
  },
  {
   "cell_type": "code",
   "execution_count": 18,
   "metadata": {},
   "outputs": [
    {
     "name": "stderr",
     "output_type": "stream",
     "text": [
      "                                                                                                                       "
     ]
    },
    {
     "name": "stdout",
     "output_type": "stream",
     "text": [
      "Moviepy - Building video hw2_part1_2_video.mp4.\n",
      "Moviepy - Writing video hw2_part1_2_video.mp4\n",
      "\n",
      "Moviepy - Done !\n",
      "Moviepy - video ready hw2_part1_2_video.mp4\n"
     ]
    },
    {
     "name": "stderr",
     "output_type": "stream",
     "text": [
      "\r"
     ]
    }
   ],
   "source": [
    "import moviepy.video.io.ImageSequenceClip as m\n",
    "\n",
    "clip = m.ImageSequenceClip(images_list, fps = 5)\n",
    "clip.write_videofile(\"hw2_part1_2_video.mp4\", codec=\"libx264\")"
   ]
  },
  {
   "cell_type": "markdown",
   "metadata": {},
   "source": [
    "I could not able the count exact corner, so I left this part."
   ]
  },
  {
   "cell_type": "code",
   "execution_count": 19,
   "metadata": {},
   "outputs": [],
   "source": [
    "for i in range (len(images_list)):\n",
    "    cv2.imwrite(\"shape_\"+str(i)+\".png\",images_list[i])"
   ]
  },
  {
   "cell_type": "code",
   "execution_count": null,
   "metadata": {},
   "outputs": [],
   "source": []
  }
 ],
 "metadata": {
  "kernelspec": {
   "display_name": "Python 3",
   "language": "python",
   "name": "python3"
  },
  "language_info": {
   "codemirror_mode": {
    "name": "ipython",
    "version": 3
   },
   "file_extension": ".py",
   "mimetype": "text/x-python",
   "name": "python",
   "nbconvert_exporter": "python",
   "pygments_lexer": "ipython3",
   "version": "3.7.6"
  }
 },
 "nbformat": 4,
 "nbformat_minor": 4
}
