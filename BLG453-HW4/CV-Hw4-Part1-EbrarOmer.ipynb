{
 "cells": [
  {
   "cell_type": "code",
   "execution_count": 1,
   "metadata": {},
   "outputs": [],
   "source": [
    "import numpy as np\n",
    "import cv2\n",
    "import moviepy.editor as mpy_\n",
    "from skimage.io import imread_collection\n",
    "from scipy import signal\n",
    "import moviepy.video.io.ImageSequenceClip as m\n"
   ]
  },
  {
   "cell_type": "code",
   "execution_count": 4,
   "metadata": {
    "scrolled": true
   },
   "outputs": [],
   "source": [
    "def find_of(Image1, Image2):\n",
    "    Image1_gray = cv2.cvtColor(Image1,cv2.COLOR_BGR2GRAY)\n",
    "    Image2_gray = cv2.cvtColor(Image2,cv2.COLOR_BGR2GRAY)\n",
    "    \n",
    "    I1 = np.array(Image1_gray)\n",
    "    I2 = np.array(Image2_gray)\n",
    "    \n",
    "    S = np.shape(I1)\n",
    "\n",
    "    I1_smooth = cv2.GaussianBlur(I1 ,(7,7),1)\n",
    "    I2_smooth = cv2.GaussianBlur(I2 ,(7,7),1)\n",
    "    \n",
    "    Ix = signal.convolve2d(I1_smooth,[[-0.5,0.5],[-0.5,0.5]],'same') \n",
    "    Iy = signal.convolve2d(I1_smooth,[[-0.5,-0.5],[0.5,0.5]],'same') \n",
    "    It = signal.convolve2d(I1_smooth,[[0.5,0.5],[0.5,0.5]],'same') + signal.convolve2d(I2_smooth,[[-0.5,-0.5],[-0.5,-0.5]],'same')\n",
    "\n",
    "    features = cv2.goodFeaturesToTrack(I1_smooth ,50 ,0.01,10)\n",
    "    feature = np.int0(features)\n",
    "    u = v = np.nan*np.ones(S)\n",
    "    for l in feature:\n",
    "        j,i = l.flatten()\n",
    "        IX = ([Ix[i-1,j-1],Ix[i,j-1],Ix[i-1,j-1],Ix[i-1,j],Ix[i,j],Ix[i+1,j],Ix[i-1,j+1],Ix[i,j+1],Ix[i+1,j-1]]) \n",
    "        IY = ([Iy[i-1,j-1],Iy[i,j-1],Iy[i-1,j-1],Iy[i-1,j],Iy[i,j],Iy[i+1,j],Iy[i-1,j+1],Iy[i,j+1],Iy[i+1,j-1]]) \n",
    "        IT = ([It[i-1,j-1],It[i,j-1],It[i-1,j-1],It[i-1,j],It[i,j],It[i+1,j],It[i-1,j+1],It[i,j+1],It[i+1,j-1]]) \n",
    "        \n",
    "        LK = (IX, IY)\n",
    "        LK = np.array(np.matrix(LK))\n",
    "        LK_tr = np.array(LK.T) \n",
    "\n",
    "        AtA = np.dot(LK,LK_tr) \n",
    "        AtA_inv = np.linalg.pinv(AtA)\n",
    "        Ab = np.dot(AtA_inv,LK)\n",
    "\n",
    "        (u[i,j],v[i,j]) = np.dot(Ab,IT) \n",
    "        \n",
    "    image=Image1.copy()\n",
    "    for i in range(S[0]):\n",
    "        for j in range(S[1]):\n",
    "            if abs(u[i,j])>t or abs(v[i,j])>t: # setting the threshold \n",
    "                startpoint=(int(j),int(i))\n",
    "                endpoint=(j +abs(int(v[i,j]*5)) ,i-(int(u[i,j]*5)))\n",
    "                color=(0, 255, 0) \n",
    "                thickness=3\n",
    "                image = cv2.arrowedLine(Image1, startpoint,endpoint, color,thickness)\n",
    "    return image\n",
    "\n",
    "t = 0.3 # threshold value\n",
    "\n",
    "images_list = []\n",
    "col_dir = 'DJI_0101/*.png'\n",
    "frames = imread_collection(col_dir)\n",
    "\n",
    "for i in range(0,460,4):\n",
    "    Image1 = frames[i]\n",
    "    Image2 = frames[i+3]\n",
    "    result=find_of(Image1, Image2)\n",
    "    images_list.append(result)\n"
   ]
  },
  {
   "cell_type": "code",
   "execution_count": 5,
   "metadata": {},
   "outputs": [
    {
     "name": "stderr",
     "output_type": "stream",
     "text": [
      "t:   2%|█▏                                                                   | 2/115 [00:00<00:08, 13.48it/s, now=None]"
     ]
    },
    {
     "name": "stdout",
     "output_type": "stream",
     "text": [
      "Moviepy - Building video hw4_part1_video.mp4.\n",
      "Moviepy - Writing video hw4_part1_video.mp4\n",
      "\n"
     ]
    },
    {
     "name": "stderr",
     "output_type": "stream",
     "text": [
      "                                                                                                                       \r"
     ]
    },
    {
     "name": "stdout",
     "output_type": "stream",
     "text": [
      "Moviepy - Done !\n",
      "Moviepy - video ready hw4_part1_video.mp4\n"
     ]
    }
   ],
   "source": [
    "clip = m.ImageSequenceClip(images_list, fps = 20)\n",
    "clip.write_videofile(\"hw4_part1_video.mp4\", codec=\"libx264\")"
   ]
  },
  {
   "cell_type": "code",
   "execution_count": 6,
   "metadata": {},
   "outputs": [],
   "source": [
    "images_list_2 = []\n",
    "col_dir = 'DJI_0101/*.png'\n",
    "frames = imread_collection(col_dir)\n",
    "background = frames[459]\n",
    "back_smooth = cv2.GaussianBlur(background,(21,21),0)\n",
    "\n",
    "for i in range(0,459):\n",
    "    Image1 = frames[i]\n",
    "    Image1_smooth = cv2.GaussianBlur(Image1,(21,21),0)\n",
    "    difference = cv2.absdiff(back_smooth, Image1_smooth)\n",
    "    images_list_2.append(difference)\n"
   ]
  },
  {
   "cell_type": "code",
   "execution_count": 7,
   "metadata": {},
   "outputs": [
    {
     "name": "stderr",
     "output_type": "stream",
     "text": [
      "t:   5%|███▍                                                               | 24/460 [00:00<00:01, 239.76it/s, now=None]"
     ]
    },
    {
     "name": "stdout",
     "output_type": "stream",
     "text": [
      "Moviepy - Building video hw4_part2_video.mp4.\n",
      "Moviepy - Writing video hw4_part2_video.mp4\n",
      "\n"
     ]
    },
    {
     "name": "stderr",
     "output_type": "stream",
     "text": [
      "                                                                                                                       \r"
     ]
    },
    {
     "name": "stdout",
     "output_type": "stream",
     "text": [
      "Moviepy - Done !\n",
      "Moviepy - video ready hw4_part2_video.mp4\n"
     ]
    }
   ],
   "source": [
    "clip = m.ImageSequenceClip(images_list_2, fps = 20)\n",
    "clip.write_videofile(\"hw4_part2_video.mp4\", codec=\"libx264\")"
   ]
  },
  {
   "cell_type": "code",
   "execution_count": null,
   "metadata": {},
   "outputs": [],
   "source": []
  }
 ],
 "metadata": {
  "kernelspec": {
   "display_name": "Python 3",
   "language": "python",
   "name": "python3"
  },
  "language_info": {
   "codemirror_mode": {
    "name": "ipython",
    "version": 3
   },
   "file_extension": ".py",
   "mimetype": "text/x-python",
   "name": "python",
   "nbconvert_exporter": "python",
   "pygments_lexer": "ipython3",
   "version": "3.7.6"
  }
 },
 "nbformat": 4,
 "nbformat_minor": 4
}
