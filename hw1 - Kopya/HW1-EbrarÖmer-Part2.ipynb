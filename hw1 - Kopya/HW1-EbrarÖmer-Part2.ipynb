{
 "cells": [
  {
   "cell_type": "code",
   "execution_count": 11,
   "metadata": {},
   "outputs": [],
   "source": [
    "import numpy as np\n",
    "import os\n",
    "import cv2\n",
    "import moviepy.editor as mpy\n",
    "import glob\n"
   ]
  },
  {
   "cell_type": "code",
   "execution_count": 12,
   "metadata": {},
   "outputs": [],
   "source": [
    "background = cv2.imread('Malibu.jpg')\n",
    "source = cv2.imread('sour.png')"
   ]
  },
  {
   "cell_type": "code",
   "execution_count": 13,
   "metadata": {},
   "outputs": [],
   "source": [
    "background_height = background.shape[0]\n",
    "background_width = background.shape[1]\n",
    "ratio = 360/background_height\n",
    "background = cv2.resize(background,(int(background_width*ratio),360))\n"
   ]
  },
  {
   "cell_type": "code",
   "execution_count": 14,
   "metadata": {},
   "outputs": [],
   "source": [
    "def histogram(inp):\n",
    "    \n",
    "    hist=np.zeros([256,1,3], dtype=np.uint8)\n",
    "    for i in range(3):\n",
    "        for g in range(256):\n",
    "            hist[g]=np.count_nonzero(inp[:,:,i]==g)\n",
    "        \n",
    "    return hist\n",
    "#inspired by slides of course"
   ]
  },
  {
   "cell_type": "code",
   "execution_count": 15,
   "metadata": {},
   "outputs": [],
   "source": [
    "def LUT(cdf_image,cdf_source):\n",
    "    \n",
    "    LUT = np.zeros(256)\n",
    "    gj = 0\n",
    "    for gi in range(256):\n",
    "        while cdf_source[gj] < cdf_image[gi] and gj < 255:\n",
    "            gj += 1\n",
    "        LUT[gi] = gj \n",
    "    return LUT\n"
   ]
  },
  {
   "cell_type": "code",
   "execution_count": 16,
   "metadata": {},
   "outputs": [],
   "source": [
    "images = sorted(glob.glob('cat/cat_*.png'),key=len)\n",
    "images_list=[]"
   ]
  },
  {
   "cell_type": "code",
   "execution_count": 17,
   "metadata": {},
   "outputs": [
    {
     "name": "stdout",
     "output_type": "stream",
     "text": [
      "(768,)\n"
     ]
    }
   ],
   "source": [
    "hist_source = histogram(source)\n",
    "cdf_source= hist_source.cumsum()/hist_source.sum()\n",
    "hists=np.empty(hist_source.shape)\n",
    "\n",
    "for filename in images:\n",
    "    image = cv2.imread(filename)\n",
    "    \n",
    "    hist_image = histogram(image)\n",
    "    hists=hists+hist_image\n",
    "\n",
    "hist_image=hists/3\n",
    "cdf_image = hist_image.cumsum()/hist_image.sum()\n",
    "print(cdf_image.shape)"
   ]
  },
  {
   "cell_type": "code",
   "execution_count": 18,
   "metadata": {},
   "outputs": [],
   "source": [
    "for filename in images:\n",
    "    image = cv2.imread(filename)\n",
    "    foreground = np.logical_or(image[:,:,1]<180, image[:,:,0]>150)\n",
    "    nonzero_x , nonzero_y = np.nonzero(foreground)\n",
    "    nonzero_cat_values = image[nonzero_x, nonzero_y,:]\n",
    "    new_frame = background.copy()\n",
    "    new_frame[nonzero_x,nonzero_y, :] = nonzero_cat_values #Left place\n",
    "    \n",
    "        \n",
    "    image_r=image.copy()\n",
    "    \n",
    "    LUT_r = LUT(cdf_image[0:256],cdf_source[0:256])\n",
    "    image_r[:,:,0] = LUT_r[image_r[:,:,0]]\n",
    "    \n",
    "    LUT_g = LUT(cdf_image[256:512],cdf_source[256:512])\n",
    "    image_r[:,:,1] = LUT_g[image_r[:,:,1]]\n",
    "    \n",
    "    LUT_b = LUT(cdf_image[512:768],cdf_source[512:768])\n",
    "    image_r[:,:,2] = LUT_b[image_r[:,:,2]]\n",
    "        \n",
    "    nonzero_cat_values = image_r[nonzero_x, nonzero_y,:]\n",
    "    new_frame[nonzero_x,background.shape[1]-1-nonzero_y,:]=nonzero_cat_values #right\n",
    "\n",
    "    new_frame = new_frame[:,:,[2,1,0]] \n",
    "    images_list.append(new_frame)\n"
   ]
  },
  {
   "cell_type": "code",
   "execution_count": 19,
   "metadata": {},
   "outputs": [
    {
     "name": "stderr",
     "output_type": "stream",
     "text": [
      "\r",
      "chunk:   0%|                                                                         | 0/159 [00:00<?, ?it/s, now=None]"
     ]
    },
    {
     "name": "stdout",
     "output_type": "stream",
     "text": [
      "Moviepy - Building video part2_video.mp4.\n",
      "MoviePy - Writing audio in part2_videoTEMP_MPY_wvf_snd.mp3\n"
     ]
    },
    {
     "name": "stderr",
     "output_type": "stream",
     "text": [
      "t:   0%|                                                                             | 0/181 [00:00<?, ?it/s, now=None]"
     ]
    },
    {
     "name": "stdout",
     "output_type": "stream",
     "text": [
      "MoviePy - Done.\n",
      "Moviepy - Writing video part2_video.mp4\n",
      "\n"
     ]
    },
    {
     "name": "stderr",
     "output_type": "stream",
     "text": [
      "                                                                                                                       \r"
     ]
    },
    {
     "name": "stdout",
     "output_type": "stream",
     "text": [
      "Moviepy - Done !\n",
      "Moviepy - video ready part2_video.mp4\n"
     ]
    }
   ],
   "source": [
    "clip = mpy.ImageSequenceClip(images_list, fps=25)\n",
    "audio = mpy.AudioFileClip('selfcontrol_part.wav').set_duration(clip.duration)\n",
    "clip = clip.set_audio(audioclip=audio)\n",
    "clip.write_videofile('part2_video.mp4', codec = 'libx264')\n"
   ]
  },
  {
   "cell_type": "code",
   "execution_count": null,
   "metadata": {},
   "outputs": [],
   "source": []
  }
 ],
 "metadata": {
  "kernelspec": {
   "display_name": "Python 3",
   "language": "python",
   "name": "python3"
  },
  "language_info": {
   "codemirror_mode": {
    "name": "ipython",
    "version": 3
   },
   "file_extension": ".py",
   "mimetype": "text/x-python",
   "name": "python",
   "nbconvert_exporter": "python",
   "pygments_lexer": "ipython3",
   "version": "3.7.6"
  }
 },
 "nbformat": 4,
 "nbformat_minor": 4
}
