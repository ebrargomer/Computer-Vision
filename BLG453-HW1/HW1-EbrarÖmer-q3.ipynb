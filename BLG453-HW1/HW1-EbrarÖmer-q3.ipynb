{
 "cells": [
  {
   "cell_type": "code",
   "execution_count": 1,
   "metadata": {},
   "outputs": [],
   "source": [
    "import numpy as np\n",
    "import cv2\n",
    "import os\n",
    "import moviepy.editor as moviepy"
   ]
  },
  {
   "cell_type": "code",
   "execution_count": 2,
   "metadata": {},
   "outputs": [],
   "source": [
    "cat=cv2.imread(\"cat-headphones.png\")\n",
    "cat=cv2.resize(cat,(572,322))\n",
    "album=cv2.imread(\"albumkapagi.jpg\")\n"
   ]
  },
  {
   "cell_type": "code",
   "execution_count": 3,
   "metadata": {},
   "outputs": [
    {
     "name": "stdout",
     "output_type": "stream",
     "text": [
      "(375, 375, 3)\n"
     ]
    }
   ],
   "source": [
    "print(album.shape)\n",
    "u=[0,374,374,0]\n",
    "v=[0,0,374,374]"
   ]
  },
  {
   "cell_type": "code",
   "execution_count": 4,
   "metadata": {},
   "outputs": [],
   "source": [
    "def coefmatrix(u,v,x,y):\n",
    "    M= [[x[0], y[0], 1,  0,  0,  0,  -x[0]*u[0], - y[0]*u[0]],\n",
    "    [0,  0,  0,  x[0], y[0], 1,  -x[0]*v[0], - y[0]*v[0]],\n",
    "    [x[1], y[1], 1,  0,  0,  0,  -x[1]*u[1], -y[1]*u[1]],\n",
    "    [0,  0,  0,  x[1], y[1], 1,  -x[1]*v[1], -y[1]*v[1]],\n",
    "    [x[2], y[2], 1,  0,  0,  0,  -x[2]*u[2], -y[2]*u[2]],\n",
    "    [0,  0,  0,  x[2], y[2], 1,  -x[2]*v[2], -y[2]*v[2]],\n",
    "    [x[3], y[3], 1,  0,  0,  0,  -x[3]*u[3], -y[3]*u[3]],\n",
    "    [0,  0,  0,  x[3], y[3], 1,  -x[3]*v[3], -y[3]*v[3]]\n",
    "    ];\n",
    "    U=[u[0],v[0],u[1],v[1],u[2],v[2],u[3],v[3]]\n",
    "    \n",
    "    a,resid,rank,s = np.linalg.lstsq(M,U)#linalg.solve gave me singular matrix\n",
    "    #error, so I search online and find this solution\n",
    "    \n",
    "    area= abs(x[1]-x[0])*abs(y[1]-y[2])\n",
    "    return a,area"
   ]
  },
  {
   "cell_type": "code",
   "execution_count": 5,
   "metadata": {},
   "outputs": [],
   "source": [
    "planes = np.zeros((9,472,4,3))\n"
   ]
  },
  {
   "cell_type": "code",
   "execution_count": 6,
   "metadata": {},
   "outputs": [],
   "source": [
    "for i in range(1,10):\n",
    "    with open(\"Plane_\"+str(i)+\".txt\") as f:\n",
    "        content = f.readlines()\n",
    "        for line_id in range(len(content)):\n",
    "            sel_line = content[line_id]\n",
    "            sel_line = sel_line.replace(')\\n', '').replace(\"(\", '').split(\")\")\n",
    "\n",
    "            for point_id in range(4):\n",
    "                sel_point = sel_line[point_id].split(\" \")\n",
    "\n",
    "                planes[i-1,line_id,point_id,0] = float(sel_point[0])\n",
    "                planes[i-1,line_id,point_id,1] = float(sel_point[1])\n",
    "                planes[i-1,line_id,point_id,2] = float(sel_point[2])\n"
   ]
  },
  {
   "cell_type": "code",
   "execution_count": 7,
   "metadata": {},
   "outputs": [],
   "source": [
    "images_list = []"
   ]
  },
  {
   "cell_type": "code",
   "execution_count": 8,
   "metadata": {},
   "outputs": [],
   "source": [
    "for i in range(472):\n",
    "    blank_image = np.empty((322,572,3), np.uint8)\n",
    "    blank_image.fill(255)\n",
    "    areas = []\n",
    "    dsts= []\n",
    "    for j in range(9):\n",
    "\n",
    "            pts = planes[j,i,:,:].squeeze()[:,0:2].astype(np.int32)\n",
    "\n",
    "            temp = np.copy(pts[3,:])\n",
    "            pts[3, :] = pts[2,:]\n",
    "            pts[2, :] = temp\n",
    "            pts = pts.reshape((-1, 1, 2))\n",
    "            \n",
    "            a,area= coefmatrix(u,v,pts.T.flatten()[0:4],pts.T.flatten()[4:8])\n",
    "            mat=[[a[0],a[1],a[2]],[a[3],a[4],a[5]],[a[6],a[7],1]]\n",
    "            mat_inv=np.linalg.pinv(mat)\n",
    "            \n",
    "            dst = cv2.warpPerspective(album, mat_inv, (572,322))\n",
    "            areas.append(area)\n",
    "            dsts.append(dst)\n",
    "            cv2.polylines(blank_image, [pts], True, (0, 255, 255))   \n",
    "    \n",
    "    for c in range(0,len(areas)):\n",
    "        for r in range(c+1,len(areas)):\n",
    "            if(areas[c]==areas[r]):\n",
    "                areas[c]=areas[c]+1  \n",
    "    zipped_lists = zip(areas, dsts)\n",
    "    sorted_pairs = sorted(zipped_lists)\n",
    "\n",
    "    tuples = zip(*sorted_pairs)\n",
    "    areas, dsts = [ list(tuple) for tuple in  tuples] #sort destination images according to areas\n",
    "    \n",
    "    \n",
    "            \n",
    "    for k in range (9):\n",
    "         \n",
    "        destination=dsts[k]\n",
    "        foreground=np.logical_or(destination[:,:,1]>0, destination[:,:,0]>0)\n",
    "        nonzero_x,nonzero_y =np.nonzero(foreground)\n",
    "        nonzero_values = destination[nonzero_x,nonzero_y,:]\n",
    "        blank_image[nonzero_x,nonzero_y,:]=nonzero_values #inspired from part1 your codes\n",
    "        \n",
    "        if(k==6): #there is 3 image front 6 image back so I've added cat after 6th step\n",
    "            foreground=np.logical_or(cat[:,:,1]>0, cat[:,:,0]>0)\n",
    "            nonzero_x,nonzero_y =np.nonzero(foreground)\n",
    "            nonzero_values = cat[nonzero_x,nonzero_y,:]\n",
    "            blank_image[nonzero_x,nonzero_y,:]=nonzero_values #add cat\n",
    "\n",
    "    blank_image = blank_image[:,:,[2,1,0]]\n",
    "    images_list.append(blank_image)"
   ]
  },
  {
   "cell_type": "code",
   "execution_count": 9,
   "metadata": {},
   "outputs": [
    {
     "name": "stderr",
     "output_type": "stream",
     "text": [
      "\r",
      "t:   0%|                                                                             | 0/472 [00:00<?, ?it/s, now=None]"
     ]
    },
    {
     "name": "stdout",
     "output_type": "stream",
     "text": [
      "Moviepy - Building video part3_video.mp4.\n",
      "Moviepy - Writing video part3_video.mp4\n",
      "\n"
     ]
    },
    {
     "name": "stderr",
     "output_type": "stream",
     "text": [
      "                                                                                                                       \r"
     ]
    },
    {
     "name": "stdout",
     "output_type": "stream",
     "text": [
      "Moviepy - Done !\n",
      "Moviepy - video ready part3_video.mp4\n"
     ]
    }
   ],
   "source": [
    "clip = moviepy.ImageSequenceClip(images_list, fps = 25)\n",
    "clip.write_videofile(\"part3_video.mp4\", codec=\"libx264\")"
   ]
  },
  {
   "cell_type": "code",
   "execution_count": null,
   "metadata": {},
   "outputs": [],
   "source": []
  },
  {
   "cell_type": "code",
   "execution_count": null,
   "metadata": {},
   "outputs": [],
   "source": []
  }
 ],
 "metadata": {
  "kernelspec": {
   "display_name": "Python 3",
   "language": "python",
   "name": "python3"
  },
  "language_info": {
   "codemirror_mode": {
    "name": "ipython",
    "version": 3
   },
   "file_extension": ".py",
   "mimetype": "text/x-python",
   "name": "python",
   "nbconvert_exporter": "python",
   "pygments_lexer": "ipython3",
   "version": "3.7.6"
  }
 },
 "nbformat": 4,
 "nbformat_minor": 4
}
