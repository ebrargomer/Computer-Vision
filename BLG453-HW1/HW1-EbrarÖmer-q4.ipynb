{
 "cells": [
  {
   "cell_type": "code",
   "execution_count": 12,
   "metadata": {},
   "outputs": [],
   "source": [
    "import numpy as np\n",
    "import cv2\n",
    "import math\n",
    "\n",
    "image = cv2.imread('albumkapagi.jpg')\n",
    "\n",
    "height=image.shape[0]                                   \n",
    "width=image.shape[1]    "
   ]
  },
  {
   "cell_type": "code",
   "execution_count": 13,
   "metadata": {},
   "outputs": [],
   "source": [
    "angle = 60"
   ]
  },
  {
   "cell_type": "code",
   "execution_count": 14,
   "metadata": {},
   "outputs": [],
   "source": [
    "angle=math.radians(angle)   #converting degrees to radians\n",
    "cosine=math.cos(angle)\n",
    "sine=math.sin(angle)"
   ]
  },
  {
   "cell_type": "code",
   "execution_count": 15,
   "metadata": {},
   "outputs": [],
   "source": [
    "def matrix(x,y):\n",
    "    return np.array([[cosine,-sine ,x*(1-cosine)+y*sine],\n",
    "             [ sine  ,cosine,y*(1-cosine)-x*sine]])"
   ]
  },
  {
   "cell_type": "code",
   "execution_count": 16,
   "metadata": {},
   "outputs": [
    {
     "data": {
      "text/plain": [
       "True"
      ]
     },
     "execution_count": 16,
     "metadata": {},
     "output_type": "execute_result"
    }
   ],
   "source": [
    "center_rotated_matrix = matrix(height//2, width//2)\n",
    "center_rotated = cv2.warpAffine(image,center_rotated_matrix,(width,height))\n",
    "cv2.imwrite('center_rotated_image.png', center_rotated)\n",
    "\n",
    "corner_rotated_matrix = matrix(0,0)\n",
    "corner_rotated = cv2.warpAffine(image,corner_rotated_matrix,(width,height))\n",
    "cv2.imwrite('corner_rotated_image.png', corner_rotated)\n"
   ]
  },
  {
   "cell_type": "markdown",
   "metadata": {},
   "source": [
    "When we rotate the image it doesn't fit in the first shape. When we take the center as the center of rotation, we lose only from the corners, while when we take the corner, most of the picture is lost."
   ]
  }
 ],
 "metadata": {
  "kernelspec": {
   "display_name": "Python 3",
   "language": "python",
   "name": "python3"
  },
  "language_info": {
   "codemirror_mode": {
    "name": "ipython",
    "version": 3
   },
   "file_extension": ".py",
   "mimetype": "text/x-python",
   "name": "python",
   "nbconvert_exporter": "python",
   "pygments_lexer": "ipython3",
   "version": "3.8.2"
  }
 },
 "nbformat": 4,
 "nbformat_minor": 4
}
